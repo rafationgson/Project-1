{
 "cells": [
  {
   "cell_type": "code",
   "execution_count": 1,
   "metadata": {},
   "outputs": [],
   "source": [
    "import pandas as pd\n",
    "import matplotlib.pyplot as plt\n",
    "import seaborn as sns\n",
    "%matplotlib inline"
   ]
  },
  {
   "cell_type": "code",
   "execution_count": 2,
   "metadata": {},
   "outputs": [
    {
     "data": {
      "text/html": [
       "<div>\n",
       "<style scoped>\n",
       "    .dataframe tbody tr th:only-of-type {\n",
       "        vertical-align: middle;\n",
       "    }\n",
       "\n",
       "    .dataframe tbody tr th {\n",
       "        vertical-align: top;\n",
       "    }\n",
       "\n",
       "    .dataframe thead th {\n",
       "        text-align: right;\n",
       "    }\n",
       "</style>\n",
       "<table border=\"1\" class=\"dataframe\">\n",
       "  <thead>\n",
       "    <tr style=\"text-align: right;\">\n",
       "      <th></th>\n",
       "      <th>Unnamed: 0</th>\n",
       "      <th>Job Title</th>\n",
       "      <th>Salary Estimate</th>\n",
       "      <th>Job Description</th>\n",
       "      <th>Rating</th>\n",
       "      <th>Company Name</th>\n",
       "      <th>Location</th>\n",
       "      <th>Headquarters</th>\n",
       "      <th>Size</th>\n",
       "      <th>Founded</th>\n",
       "      <th>Type of ownership</th>\n",
       "      <th>Industry</th>\n",
       "      <th>Sector</th>\n",
       "      <th>Revenue</th>\n",
       "      <th>Competitors</th>\n",
       "      <th>Easy Apply</th>\n",
       "    </tr>\n",
       "  </thead>\n",
       "  <tbody>\n",
       "    <tr>\n",
       "      <th>0</th>\n",
       "      <td>0</td>\n",
       "      <td>Data Analyst, Center on Immigration and Justic...</td>\n",
       "      <td>$37K-$66K (Glassdoor est.)</td>\n",
       "      <td>Are you eager to roll up your sleeves and harn...</td>\n",
       "      <td>3.2</td>\n",
       "      <td>Vera Institute of Justice\\n3.2</td>\n",
       "      <td>New York, NY</td>\n",
       "      <td>New York, NY</td>\n",
       "      <td>201 to 500 employees</td>\n",
       "      <td>1961</td>\n",
       "      <td>Nonprofit Organization</td>\n",
       "      <td>Social Assistance</td>\n",
       "      <td>Non-Profit</td>\n",
       "      <td>$100 to $500 million (USD)</td>\n",
       "      <td>-1</td>\n",
       "      <td>True</td>\n",
       "    </tr>\n",
       "    <tr>\n",
       "      <th>1</th>\n",
       "      <td>1</td>\n",
       "      <td>Quality Data Analyst</td>\n",
       "      <td>$37K-$66K (Glassdoor est.)</td>\n",
       "      <td>Overview\\n\\nProvides analytical and technical ...</td>\n",
       "      <td>3.8</td>\n",
       "      <td>Visiting Nurse Service of New York\\n3.8</td>\n",
       "      <td>New York, NY</td>\n",
       "      <td>New York, NY</td>\n",
       "      <td>10000+ employees</td>\n",
       "      <td>1893</td>\n",
       "      <td>Nonprofit Organization</td>\n",
       "      <td>Health Care Services &amp; Hospitals</td>\n",
       "      <td>Health Care</td>\n",
       "      <td>$2 to $5 billion (USD)</td>\n",
       "      <td>-1</td>\n",
       "      <td>-1</td>\n",
       "    </tr>\n",
       "    <tr>\n",
       "      <th>2</th>\n",
       "      <td>2</td>\n",
       "      <td>Senior Data Analyst, Insights &amp; Analytics Team...</td>\n",
       "      <td>$37K-$66K (Glassdoor est.)</td>\n",
       "      <td>We’re looking for a Senior Data Analyst who ha...</td>\n",
       "      <td>3.4</td>\n",
       "      <td>Squarespace\\n3.4</td>\n",
       "      <td>New York, NY</td>\n",
       "      <td>New York, NY</td>\n",
       "      <td>1001 to 5000 employees</td>\n",
       "      <td>2003</td>\n",
       "      <td>Company - Private</td>\n",
       "      <td>Internet</td>\n",
       "      <td>Information Technology</td>\n",
       "      <td>Unknown / Non-Applicable</td>\n",
       "      <td>GoDaddy</td>\n",
       "      <td>-1</td>\n",
       "    </tr>\n",
       "    <tr>\n",
       "      <th>3</th>\n",
       "      <td>3</td>\n",
       "      <td>Data Analyst</td>\n",
       "      <td>$37K-$66K (Glassdoor est.)</td>\n",
       "      <td>Requisition NumberRR-0001939\\nRemote:Yes\\nWe c...</td>\n",
       "      <td>4.1</td>\n",
       "      <td>Celerity\\n4.1</td>\n",
       "      <td>New York, NY</td>\n",
       "      <td>McLean, VA</td>\n",
       "      <td>201 to 500 employees</td>\n",
       "      <td>2002</td>\n",
       "      <td>Subsidiary or Business Segment</td>\n",
       "      <td>IT Services</td>\n",
       "      <td>Information Technology</td>\n",
       "      <td>$50 to $100 million (USD)</td>\n",
       "      <td>-1</td>\n",
       "      <td>-1</td>\n",
       "    </tr>\n",
       "    <tr>\n",
       "      <th>4</th>\n",
       "      <td>4</td>\n",
       "      <td>Reporting Data Analyst</td>\n",
       "      <td>$37K-$66K (Glassdoor est.)</td>\n",
       "      <td>ABOUT FANDUEL GROUP\\n\\nFanDuel Group is a worl...</td>\n",
       "      <td>3.9</td>\n",
       "      <td>FanDuel\\n3.9</td>\n",
       "      <td>New York, NY</td>\n",
       "      <td>New York, NY</td>\n",
       "      <td>501 to 1000 employees</td>\n",
       "      <td>2009</td>\n",
       "      <td>Company - Private</td>\n",
       "      <td>Sports &amp; Recreation</td>\n",
       "      <td>Arts, Entertainment &amp; Recreation</td>\n",
       "      <td>$100 to $500 million (USD)</td>\n",
       "      <td>DraftKings</td>\n",
       "      <td>True</td>\n",
       "    </tr>\n",
       "    <tr>\n",
       "      <th>5</th>\n",
       "      <td>5</td>\n",
       "      <td>Data Analyst</td>\n",
       "      <td>$37K-$66K (Glassdoor est.)</td>\n",
       "      <td>About Cubist\\nCubist Systematic Strategies is ...</td>\n",
       "      <td>3.9</td>\n",
       "      <td>Point72\\n3.9</td>\n",
       "      <td>New York, NY</td>\n",
       "      <td>Stamford, CT</td>\n",
       "      <td>1001 to 5000 employees</td>\n",
       "      <td>2014</td>\n",
       "      <td>Company - Private</td>\n",
       "      <td>Investment Banking &amp; Asset Management</td>\n",
       "      <td>Finance</td>\n",
       "      <td>Unknown / Non-Applicable</td>\n",
       "      <td>-1</td>\n",
       "      <td>-1</td>\n",
       "    </tr>\n",
       "    <tr>\n",
       "      <th>6</th>\n",
       "      <td>6</td>\n",
       "      <td>Business/Data Analyst (FP&amp;A)</td>\n",
       "      <td>$37K-$66K (Glassdoor est.)</td>\n",
       "      <td>Two Sigma is a different kind of investment ma...</td>\n",
       "      <td>4.4</td>\n",
       "      <td>Two Sigma\\n4.4</td>\n",
       "      <td>New York, NY</td>\n",
       "      <td>New York, NY</td>\n",
       "      <td>1001 to 5000 employees</td>\n",
       "      <td>2001</td>\n",
       "      <td>Company - Private</td>\n",
       "      <td>Investment Banking &amp; Asset Management</td>\n",
       "      <td>Finance</td>\n",
       "      <td>Unknown / Non-Applicable</td>\n",
       "      <td>-1</td>\n",
       "      <td>-1</td>\n",
       "    </tr>\n",
       "    <tr>\n",
       "      <th>7</th>\n",
       "      <td>7</td>\n",
       "      <td>Data Science Analyst</td>\n",
       "      <td>$37K-$66K (Glassdoor est.)</td>\n",
       "      <td>Data Science Analyst\\n\\nJob Details\\nLevel\\nEx...</td>\n",
       "      <td>3.7</td>\n",
       "      <td>GNY Insurance Companies\\n3.7</td>\n",
       "      <td>New York, NY</td>\n",
       "      <td>New York, NY</td>\n",
       "      <td>201 to 500 employees</td>\n",
       "      <td>1914</td>\n",
       "      <td>Company - Private</td>\n",
       "      <td>Insurance Carriers</td>\n",
       "      <td>Insurance</td>\n",
       "      <td>$100 to $500 million (USD)</td>\n",
       "      <td>Travelers, Chubb, Crum &amp; Forster</td>\n",
       "      <td>True</td>\n",
       "    </tr>\n",
       "    <tr>\n",
       "      <th>8</th>\n",
       "      <td>8</td>\n",
       "      <td>Data Analyst</td>\n",
       "      <td>$37K-$66K (Glassdoor est.)</td>\n",
       "      <td>The Data Analyst is an integral member of the ...</td>\n",
       "      <td>4.0</td>\n",
       "      <td>DMGT\\n4.0</td>\n",
       "      <td>New York, NY</td>\n",
       "      <td>London, United Kingdom</td>\n",
       "      <td>5001 to 10000 employees</td>\n",
       "      <td>1896</td>\n",
       "      <td>Company - Public</td>\n",
       "      <td>Venture Capital &amp; Private Equity</td>\n",
       "      <td>Finance</td>\n",
       "      <td>$1 to $2 billion (USD)</td>\n",
       "      <td>Thomson Reuters, Hearst, Pearson</td>\n",
       "      <td>-1</td>\n",
       "    </tr>\n",
       "    <tr>\n",
       "      <th>9</th>\n",
       "      <td>9</td>\n",
       "      <td>Data Analyst, Merchant Health</td>\n",
       "      <td>$37K-$66K (Glassdoor est.)</td>\n",
       "      <td>About Us\\n\\nRiskified is the AI platform power...</td>\n",
       "      <td>4.4</td>\n",
       "      <td>Riskified\\n4.4</td>\n",
       "      <td>New York, NY</td>\n",
       "      <td>New York, NY</td>\n",
       "      <td>501 to 1000 employees</td>\n",
       "      <td>2013</td>\n",
       "      <td>Company - Private</td>\n",
       "      <td>Research &amp; Development</td>\n",
       "      <td>Business Services</td>\n",
       "      <td>Unknown / Non-Applicable</td>\n",
       "      <td>Signifyd, Forter</td>\n",
       "      <td>-1</td>\n",
       "    </tr>\n",
       "    <tr>\n",
       "      <th>10</th>\n",
       "      <td>10</td>\n",
       "      <td>Data Analyst</td>\n",
       "      <td>$37K-$66K (Glassdoor est.)</td>\n",
       "      <td>NYU Grossman School of Medicine is one of the ...</td>\n",
       "      <td>4.0</td>\n",
       "      <td>NYU Langone Health\\n4.0</td>\n",
       "      <td>New York, NY</td>\n",
       "      <td>New York, NY</td>\n",
       "      <td>10000+ employees</td>\n",
       "      <td>1841</td>\n",
       "      <td>Hospital</td>\n",
       "      <td>Health Care Services &amp; Hospitals</td>\n",
       "      <td>Health Care</td>\n",
       "      <td>$5 to $10 billion (USD)</td>\n",
       "      <td>NewYork-Presbyterian Hospital, Northwell Health</td>\n",
       "      <td>-1</td>\n",
       "    </tr>\n",
       "    <tr>\n",
       "      <th>11</th>\n",
       "      <td>11</td>\n",
       "      <td>Data Analyst</td>\n",
       "      <td>$37K-$66K (Glassdoor est.)</td>\n",
       "      <td>BulbHead is currently seeking a Data Analyst t...</td>\n",
       "      <td>-1.0</td>\n",
       "      <td>BulbHead</td>\n",
       "      <td>Fairfield, NJ</td>\n",
       "      <td>-1</td>\n",
       "      <td>1 to 50 employees</td>\n",
       "      <td>-1</td>\n",
       "      <td>Company - Private</td>\n",
       "      <td>-1</td>\n",
       "      <td>-1</td>\n",
       "      <td>Unknown / Non-Applicable</td>\n",
       "      <td>-1</td>\n",
       "      <td>-1</td>\n",
       "    </tr>\n",
       "    <tr>\n",
       "      <th>12</th>\n",
       "      <td>12</td>\n",
       "      <td>DATA ANALYST</td>\n",
       "      <td>$37K-$66K (Glassdoor est.)</td>\n",
       "      <td>Job Summary:\\n\\nThe Clinical Research Data Ana...</td>\n",
       "      <td>3.7</td>\n",
       "      <td>Montefiore Medical\\n3.7</td>\n",
       "      <td>New York, NY</td>\n",
       "      <td>Bronx, NY</td>\n",
       "      <td>10000+ employees</td>\n",
       "      <td>1884</td>\n",
       "      <td>Nonprofit Organization</td>\n",
       "      <td>Health Care Services &amp; Hospitals</td>\n",
       "      <td>Health Care</td>\n",
       "      <td>$2 to $5 billion (USD)</td>\n",
       "      <td>-1</td>\n",
       "      <td>-1</td>\n",
       "    </tr>\n",
       "    <tr>\n",
       "      <th>13</th>\n",
       "      <td>13</td>\n",
       "      <td>Senior Data Analyst</td>\n",
       "      <td>$37K-$66K (Glassdoor est.)</td>\n",
       "      <td>About Known\\n\\nKnown is a modern marketing com...</td>\n",
       "      <td>3.0</td>\n",
       "      <td>Known\\n3.0</td>\n",
       "      <td>New York, NY</td>\n",
       "      <td>New York, NY</td>\n",
       "      <td>201 to 500 employees</td>\n",
       "      <td>2004</td>\n",
       "      <td>Company - Private</td>\n",
       "      <td>Advertising &amp; Marketing</td>\n",
       "      <td>Business Services</td>\n",
       "      <td>$100 to $500 million (USD)</td>\n",
       "      <td>-1</td>\n",
       "      <td>True</td>\n",
       "    </tr>\n",
       "    <tr>\n",
       "      <th>14</th>\n",
       "      <td>14</td>\n",
       "      <td>Investment Advisory Data Analyst</td>\n",
       "      <td>$37K-$66K (Glassdoor est.)</td>\n",
       "      <td>Investment Advisory Compliance Opportunity in ...</td>\n",
       "      <td>3.4</td>\n",
       "      <td>Advisor Group\\n3.4</td>\n",
       "      <td>Jersey City, NJ</td>\n",
       "      <td>Phoenix, AZ</td>\n",
       "      <td>1001 to 5000 employees</td>\n",
       "      <td>2016</td>\n",
       "      <td>Company - Private</td>\n",
       "      <td>Brokerage Services</td>\n",
       "      <td>Finance</td>\n",
       "      <td>$1 to $5 million (USD)</td>\n",
       "      <td>-1</td>\n",
       "      <td>-1</td>\n",
       "    </tr>\n",
       "    <tr>\n",
       "      <th>15</th>\n",
       "      <td>15</td>\n",
       "      <td>Sustainability Data Analyst</td>\n",
       "      <td>$37K-$66K (Glassdoor est.)</td>\n",
       "      <td>Job Description\\nRole Description\\n\\nSustainab...</td>\n",
       "      <td>3.6</td>\n",
       "      <td>CodeGreen Solutions\\n3.6</td>\n",
       "      <td>New York, NY</td>\n",
       "      <td>New York, NY</td>\n",
       "      <td>1 to 50 employees</td>\n",
       "      <td>-1</td>\n",
       "      <td>Company - Private</td>\n",
       "      <td>Building &amp; Personnel Services</td>\n",
       "      <td>Business Services</td>\n",
       "      <td>Unknown / Non-Applicable</td>\n",
       "      <td>-1</td>\n",
       "      <td>-1</td>\n",
       "    </tr>\n",
       "    <tr>\n",
       "      <th>16</th>\n",
       "      <td>16</td>\n",
       "      <td>Data Analyst</td>\n",
       "      <td>$37K-$66K (Glassdoor est.)</td>\n",
       "      <td>Undertone stands alone among AdTech and ad net...</td>\n",
       "      <td>3.8</td>\n",
       "      <td>Undertone\\n3.8</td>\n",
       "      <td>New York, NY</td>\n",
       "      <td>New York, NY</td>\n",
       "      <td>201 to 500 employees</td>\n",
       "      <td>2001</td>\n",
       "      <td>Subsidiary or Business Segment</td>\n",
       "      <td>Advertising &amp; Marketing</td>\n",
       "      <td>Business Services</td>\n",
       "      <td>Unknown / Non-Applicable</td>\n",
       "      <td>DoubleClick, Specific Media, Collective</td>\n",
       "      <td>True</td>\n",
       "    </tr>\n",
       "    <tr>\n",
       "      <th>17</th>\n",
       "      <td>17</td>\n",
       "      <td>Clinical Data Analyst</td>\n",
       "      <td>$37K-$66K (Glassdoor est.)</td>\n",
       "      <td>About Us:\\n\\nNYSTEC is a non-profit technology...</td>\n",
       "      <td>3.8</td>\n",
       "      <td>NYSTEC\\n3.8</td>\n",
       "      <td>New York, NY</td>\n",
       "      <td>Rome, NY</td>\n",
       "      <td>51 to 200 employees</td>\n",
       "      <td>1996</td>\n",
       "      <td>Nonprofit Organization</td>\n",
       "      <td>Consulting</td>\n",
       "      <td>Business Services</td>\n",
       "      <td>$25 to $50 million (USD)</td>\n",
       "      <td>KPMG, Accenture, Deloitte</td>\n",
       "      <td>-1</td>\n",
       "    </tr>\n",
       "    <tr>\n",
       "      <th>18</th>\n",
       "      <td>18</td>\n",
       "      <td>DATA PROGRAMMER/ANALYST</td>\n",
       "      <td>$37K-$66K (Glassdoor est.)</td>\n",
       "      <td>Company Description\\n\\nEDUCATION DEVELOPMENT C...</td>\n",
       "      <td>3.9</td>\n",
       "      <td>Education Development Center, Inc.\\n3.9</td>\n",
       "      <td>New York, NY</td>\n",
       "      <td>Waltham, MA</td>\n",
       "      <td>501 to 1000 employees</td>\n",
       "      <td>1958</td>\n",
       "      <td>Nonprofit Organization</td>\n",
       "      <td>Research &amp; Development</td>\n",
       "      <td>Business Services</td>\n",
       "      <td>$100 to $500 million (USD)</td>\n",
       "      <td>-1</td>\n",
       "      <td>-1</td>\n",
       "    </tr>\n",
       "    <tr>\n",
       "      <th>19</th>\n",
       "      <td>19</td>\n",
       "      <td>Data Analyst</td>\n",
       "      <td>$37K-$66K (Glassdoor est.)</td>\n",
       "      <td>About Us\\n\\nAt Teachers Pay Teachers (TpT), we...</td>\n",
       "      <td>4.9</td>\n",
       "      <td>Teachers Pay Teachers\\n4.9</td>\n",
       "      <td>New York, NY</td>\n",
       "      <td>New York, NY</td>\n",
       "      <td>51 to 200 employees</td>\n",
       "      <td>2006</td>\n",
       "      <td>Company - Private</td>\n",
       "      <td>Internet</td>\n",
       "      <td>Information Technology</td>\n",
       "      <td>Unknown / Non-Applicable</td>\n",
       "      <td>-1</td>\n",
       "      <td>-1</td>\n",
       "    </tr>\n",
       "  </tbody>\n",
       "</table>\n",
       "</div>"
      ],
      "text/plain": [
       "    Unnamed: 0                                          Job Title  \\\n",
       "0            0  Data Analyst, Center on Immigration and Justic...   \n",
       "1            1                               Quality Data Analyst   \n",
       "2            2  Senior Data Analyst, Insights & Analytics Team...   \n",
       "3            3                                       Data Analyst   \n",
       "4            4                             Reporting Data Analyst   \n",
       "5            5                                       Data Analyst   \n",
       "6            6                       Business/Data Analyst (FP&A)   \n",
       "7            7                               Data Science Analyst   \n",
       "8            8                                       Data Analyst   \n",
       "9            9                      Data Analyst, Merchant Health   \n",
       "10          10                                       Data Analyst   \n",
       "11          11                                       Data Analyst   \n",
       "12          12                                       DATA ANALYST   \n",
       "13          13                                Senior Data Analyst   \n",
       "14          14                   Investment Advisory Data Analyst   \n",
       "15          15                        Sustainability Data Analyst   \n",
       "16          16                                       Data Analyst   \n",
       "17          17                              Clinical Data Analyst   \n",
       "18          18                            DATA PROGRAMMER/ANALYST   \n",
       "19          19                                       Data Analyst   \n",
       "\n",
       "               Salary Estimate  \\\n",
       "0   $37K-$66K (Glassdoor est.)   \n",
       "1   $37K-$66K (Glassdoor est.)   \n",
       "2   $37K-$66K (Glassdoor est.)   \n",
       "3   $37K-$66K (Glassdoor est.)   \n",
       "4   $37K-$66K (Glassdoor est.)   \n",
       "5   $37K-$66K (Glassdoor est.)   \n",
       "6   $37K-$66K (Glassdoor est.)   \n",
       "7   $37K-$66K (Glassdoor est.)   \n",
       "8   $37K-$66K (Glassdoor est.)   \n",
       "9   $37K-$66K (Glassdoor est.)   \n",
       "10  $37K-$66K (Glassdoor est.)   \n",
       "11  $37K-$66K (Glassdoor est.)   \n",
       "12  $37K-$66K (Glassdoor est.)   \n",
       "13  $37K-$66K (Glassdoor est.)   \n",
       "14  $37K-$66K (Glassdoor est.)   \n",
       "15  $37K-$66K (Glassdoor est.)   \n",
       "16  $37K-$66K (Glassdoor est.)   \n",
       "17  $37K-$66K (Glassdoor est.)   \n",
       "18  $37K-$66K (Glassdoor est.)   \n",
       "19  $37K-$66K (Glassdoor est.)   \n",
       "\n",
       "                                      Job Description  Rating  \\\n",
       "0   Are you eager to roll up your sleeves and harn...     3.2   \n",
       "1   Overview\\n\\nProvides analytical and technical ...     3.8   \n",
       "2   We’re looking for a Senior Data Analyst who ha...     3.4   \n",
       "3   Requisition NumberRR-0001939\\nRemote:Yes\\nWe c...     4.1   \n",
       "4   ABOUT FANDUEL GROUP\\n\\nFanDuel Group is a worl...     3.9   \n",
       "5   About Cubist\\nCubist Systematic Strategies is ...     3.9   \n",
       "6   Two Sigma is a different kind of investment ma...     4.4   \n",
       "7   Data Science Analyst\\n\\nJob Details\\nLevel\\nEx...     3.7   \n",
       "8   The Data Analyst is an integral member of the ...     4.0   \n",
       "9   About Us\\n\\nRiskified is the AI platform power...     4.4   \n",
       "10  NYU Grossman School of Medicine is one of the ...     4.0   \n",
       "11  BulbHead is currently seeking a Data Analyst t...    -1.0   \n",
       "12  Job Summary:\\n\\nThe Clinical Research Data Ana...     3.7   \n",
       "13  About Known\\n\\nKnown is a modern marketing com...     3.0   \n",
       "14  Investment Advisory Compliance Opportunity in ...     3.4   \n",
       "15  Job Description\\nRole Description\\n\\nSustainab...     3.6   \n",
       "16  Undertone stands alone among AdTech and ad net...     3.8   \n",
       "17  About Us:\\n\\nNYSTEC is a non-profit technology...     3.8   \n",
       "18  Company Description\\n\\nEDUCATION DEVELOPMENT C...     3.9   \n",
       "19  About Us\\n\\nAt Teachers Pay Teachers (TpT), we...     4.9   \n",
       "\n",
       "                               Company Name         Location  \\\n",
       "0            Vera Institute of Justice\\n3.2     New York, NY   \n",
       "1   Visiting Nurse Service of New York\\n3.8     New York, NY   \n",
       "2                          Squarespace\\n3.4     New York, NY   \n",
       "3                             Celerity\\n4.1     New York, NY   \n",
       "4                              FanDuel\\n3.9     New York, NY   \n",
       "5                              Point72\\n3.9     New York, NY   \n",
       "6                            Two Sigma\\n4.4     New York, NY   \n",
       "7              GNY Insurance Companies\\n3.7     New York, NY   \n",
       "8                                 DMGT\\n4.0     New York, NY   \n",
       "9                            Riskified\\n4.4     New York, NY   \n",
       "10                  NYU Langone Health\\n4.0     New York, NY   \n",
       "11                                 BulbHead    Fairfield, NJ   \n",
       "12                  Montefiore Medical\\n3.7     New York, NY   \n",
       "13                               Known\\n3.0     New York, NY   \n",
       "14                       Advisor Group\\n3.4  Jersey City, NJ   \n",
       "15                 CodeGreen Solutions\\n3.6     New York, NY   \n",
       "16                           Undertone\\n3.8     New York, NY   \n",
       "17                              NYSTEC\\n3.8     New York, NY   \n",
       "18  Education Development Center, Inc.\\n3.9     New York, NY   \n",
       "19               Teachers Pay Teachers\\n4.9     New York, NY   \n",
       "\n",
       "              Headquarters                     Size  Founded  \\\n",
       "0             New York, NY     201 to 500 employees     1961   \n",
       "1             New York, NY         10000+ employees     1893   \n",
       "2             New York, NY   1001 to 5000 employees     2003   \n",
       "3               McLean, VA     201 to 500 employees     2002   \n",
       "4             New York, NY    501 to 1000 employees     2009   \n",
       "5             Stamford, CT   1001 to 5000 employees     2014   \n",
       "6             New York, NY   1001 to 5000 employees     2001   \n",
       "7             New York, NY     201 to 500 employees     1914   \n",
       "8   London, United Kingdom  5001 to 10000 employees     1896   \n",
       "9             New York, NY    501 to 1000 employees     2013   \n",
       "10            New York, NY         10000+ employees     1841   \n",
       "11                      -1        1 to 50 employees       -1   \n",
       "12               Bronx, NY         10000+ employees     1884   \n",
       "13            New York, NY     201 to 500 employees     2004   \n",
       "14             Phoenix, AZ   1001 to 5000 employees     2016   \n",
       "15            New York, NY        1 to 50 employees       -1   \n",
       "16            New York, NY     201 to 500 employees     2001   \n",
       "17                Rome, NY      51 to 200 employees     1996   \n",
       "18             Waltham, MA    501 to 1000 employees     1958   \n",
       "19            New York, NY      51 to 200 employees     2006   \n",
       "\n",
       "                 Type of ownership                               Industry  \\\n",
       "0           Nonprofit Organization                      Social Assistance   \n",
       "1           Nonprofit Organization       Health Care Services & Hospitals   \n",
       "2                Company - Private                               Internet   \n",
       "3   Subsidiary or Business Segment                            IT Services   \n",
       "4                Company - Private                    Sports & Recreation   \n",
       "5                Company - Private  Investment Banking & Asset Management   \n",
       "6                Company - Private  Investment Banking & Asset Management   \n",
       "7                Company - Private                     Insurance Carriers   \n",
       "8                 Company - Public       Venture Capital & Private Equity   \n",
       "9                Company - Private                 Research & Development   \n",
       "10                        Hospital       Health Care Services & Hospitals   \n",
       "11               Company - Private                                     -1   \n",
       "12          Nonprofit Organization       Health Care Services & Hospitals   \n",
       "13               Company - Private                Advertising & Marketing   \n",
       "14               Company - Private                     Brokerage Services   \n",
       "15               Company - Private          Building & Personnel Services   \n",
       "16  Subsidiary or Business Segment                Advertising & Marketing   \n",
       "17          Nonprofit Organization                             Consulting   \n",
       "18          Nonprofit Organization                 Research & Development   \n",
       "19               Company - Private                               Internet   \n",
       "\n",
       "                              Sector                     Revenue  \\\n",
       "0                         Non-Profit  $100 to $500 million (USD)   \n",
       "1                        Health Care      $2 to $5 billion (USD)   \n",
       "2             Information Technology    Unknown / Non-Applicable   \n",
       "3             Information Technology   $50 to $100 million (USD)   \n",
       "4   Arts, Entertainment & Recreation  $100 to $500 million (USD)   \n",
       "5                            Finance    Unknown / Non-Applicable   \n",
       "6                            Finance    Unknown / Non-Applicable   \n",
       "7                          Insurance  $100 to $500 million (USD)   \n",
       "8                            Finance      $1 to $2 billion (USD)   \n",
       "9                  Business Services    Unknown / Non-Applicable   \n",
       "10                       Health Care     $5 to $10 billion (USD)   \n",
       "11                                -1    Unknown / Non-Applicable   \n",
       "12                       Health Care      $2 to $5 billion (USD)   \n",
       "13                 Business Services  $100 to $500 million (USD)   \n",
       "14                           Finance      $1 to $5 million (USD)   \n",
       "15                 Business Services    Unknown / Non-Applicable   \n",
       "16                 Business Services    Unknown / Non-Applicable   \n",
       "17                 Business Services    $25 to $50 million (USD)   \n",
       "18                 Business Services  $100 to $500 million (USD)   \n",
       "19            Information Technology    Unknown / Non-Applicable   \n",
       "\n",
       "                                        Competitors Easy Apply  \n",
       "0                                                -1       True  \n",
       "1                                                -1         -1  \n",
       "2                                           GoDaddy         -1  \n",
       "3                                                -1         -1  \n",
       "4                                        DraftKings       True  \n",
       "5                                                -1         -1  \n",
       "6                                                -1         -1  \n",
       "7                  Travelers, Chubb, Crum & Forster       True  \n",
       "8                  Thomson Reuters, Hearst, Pearson         -1  \n",
       "9                                  Signifyd, Forter         -1  \n",
       "10  NewYork-Presbyterian Hospital, Northwell Health         -1  \n",
       "11                                               -1         -1  \n",
       "12                                               -1         -1  \n",
       "13                                               -1       True  \n",
       "14                                               -1         -1  \n",
       "15                                               -1         -1  \n",
       "16          DoubleClick, Specific Media, Collective       True  \n",
       "17                        KPMG, Accenture, Deloitte         -1  \n",
       "18                                               -1         -1  \n",
       "19                                               -1         -1  "
      ]
     },
     "execution_count": 2,
     "metadata": {},
     "output_type": "execute_result"
    }
   ],
   "source": [
    "df = pd.read_csv('Desktop/Datasets/DataAnalyst.csv')\n",
    "df.head(20)"
   ]
  },
  {
   "cell_type": "markdown",
   "metadata": {},
   "source": [
    "## Data Cleaning and Feature Engineering\n",
    "1. Fix Salary (add min, max, avg columns)\n",
    "2. Extract Job title\n",
    "3. Extract Company Name\n",
    "4. Extract Job city from location\n",
    "5. Extract job state from location\n",
    "6. Same location column if headquarters and location are the same\n",
    "7. Add age of company from founded column\n",
    "9. Add Number of competitor columns\n",
    "10. Drop unnamed column\n",
    "11. Skills needed"
   ]
  },
  {
   "cell_type": "code",
   "execution_count": 3,
   "metadata": {},
   "outputs": [
    {
     "data": {
      "text/plain": [
       "Index(['Unnamed: 0', 'Job Title', 'Salary Estimate', 'Job Description',\n",
       "       'Rating', 'Company Name', 'Location', 'Headquarters', 'Size', 'Founded',\n",
       "       'Type of ownership', 'Industry', 'Sector', 'Revenue', 'Competitors',\n",
       "       'Easy Apply'],\n",
       "      dtype='object')"
      ]
     },
     "execution_count": 3,
     "metadata": {},
     "output_type": "execute_result"
    }
   ],
   "source": [
    "df.columns"
   ]
  },
  {
   "cell_type": "code",
   "execution_count": 4,
   "metadata": {},
   "outputs": [],
   "source": [
    "df['Salary Estimate'] = df['Salary Estimate'].apply(lambda x: x.split(' ')[0])"
   ]
  },
  {
   "cell_type": "code",
   "execution_count": 5,
   "metadata": {},
   "outputs": [],
   "source": [
    "df['Salary Estimate'] = df['Salary Estimate'].apply(lambda x: x.replace('$', ''))\n",
    "df['Salary Estimate'] = df['Salary Estimate'].apply(lambda x: x.replace('K', ''))"
   ]
  },
  {
   "cell_type": "code",
   "execution_count": 6,
   "metadata": {},
   "outputs": [
    {
     "data": {
      "text/plain": [
       "0        37-66\n",
       "1        37-66\n",
       "2        37-66\n",
       "3        37-66\n",
       "4        37-66\n",
       "         ...  \n",
       "2248    78-104\n",
       "2249    78-104\n",
       "2250    78-104\n",
       "2251    78-104\n",
       "2252    78-104\n",
       "Name: Salary Estimate, Length: 2253, dtype: object"
      ]
     },
     "execution_count": 6,
     "metadata": {},
     "output_type": "execute_result"
    }
   ],
   "source": [
    "df['Salary Estimate']"
   ]
  },
  {
   "cell_type": "code",
   "execution_count": 7,
   "metadata": {},
   "outputs": [],
   "source": [
    "df['Min_Salary'] = df['Salary Estimate'].apply(lambda x: x.split('-')[0])\n",
    "df['Max_Salary'] = df['Salary Estimate'].apply(lambda x: x.split('-')[1])"
   ]
  },
  {
   "cell_type": "code",
   "execution_count": 8,
   "metadata": {},
   "outputs": [
    {
     "data": {
      "text/plain": [
       "Unnamed: 0           0\n",
       "Job Title            0\n",
       "Salary Estimate      0\n",
       "Job Description      0\n",
       "Rating               0\n",
       "Company Name         1\n",
       "Location             0\n",
       "Headquarters         0\n",
       "Size                 0\n",
       "Founded              0\n",
       "Type of ownership    0\n",
       "Industry             0\n",
       "Sector               0\n",
       "Revenue              0\n",
       "Competitors          0\n",
       "Easy Apply           0\n",
       "Min_Salary           0\n",
       "Max_Salary           0\n",
       "dtype: int64"
      ]
     },
     "execution_count": 8,
     "metadata": {},
     "output_type": "execute_result"
    }
   ],
   "source": [
    "df.isnull().sum()"
   ]
  },
  {
   "cell_type": "code",
   "execution_count": 9,
   "metadata": {},
   "outputs": [],
   "source": [
    "df.drop(df[df['Min_Salary'] == ''].index, inplace=True)\n",
    "df.drop(df[df['Company Name'].isnull()].index, inplace=True)"
   ]
  },
  {
   "cell_type": "code",
   "execution_count": 10,
   "metadata": {},
   "outputs": [
    {
     "name": "stdout",
     "output_type": "stream",
     "text": [
      "<class 'pandas.core.frame.DataFrame'>\n",
      "Int64Index: 2251 entries, 0 to 2252\n",
      "Data columns (total 18 columns):\n",
      " #   Column             Non-Null Count  Dtype  \n",
      "---  ------             --------------  -----  \n",
      " 0   Unnamed: 0         2251 non-null   int64  \n",
      " 1   Job Title          2251 non-null   object \n",
      " 2   Salary Estimate    2251 non-null   object \n",
      " 3   Job Description    2251 non-null   object \n",
      " 4   Rating             2251 non-null   float64\n",
      " 5   Company Name       2251 non-null   object \n",
      " 6   Location           2251 non-null   object \n",
      " 7   Headquarters       2251 non-null   object \n",
      " 8   Size               2251 non-null   object \n",
      " 9   Founded            2251 non-null   int64  \n",
      " 10  Type of ownership  2251 non-null   object \n",
      " 11  Industry           2251 non-null   object \n",
      " 12  Sector             2251 non-null   object \n",
      " 13  Revenue            2251 non-null   object \n",
      " 14  Competitors        2251 non-null   object \n",
      " 15  Easy Apply         2251 non-null   object \n",
      " 16  Min_Salary         2251 non-null   object \n",
      " 17  Max_Salary         2251 non-null   object \n",
      "dtypes: float64(1), int64(2), object(15)\n",
      "memory usage: 334.1+ KB\n"
     ]
    }
   ],
   "source": [
    "df.info()"
   ]
  },
  {
   "cell_type": "code",
   "execution_count": 11,
   "metadata": {},
   "outputs": [],
   "source": [
    "df['Min_Salary'] = df['Min_Salary'].astype('int64')\n",
    "df['Max_Salary'] = df['Max_Salary'].astype('int64')"
   ]
  },
  {
   "cell_type": "code",
   "execution_count": 12,
   "metadata": {},
   "outputs": [
    {
     "name": "stdout",
     "output_type": "stream",
     "text": [
      "<class 'pandas.core.frame.DataFrame'>\n",
      "Int64Index: 2251 entries, 0 to 2252\n",
      "Data columns (total 18 columns):\n",
      " #   Column             Non-Null Count  Dtype  \n",
      "---  ------             --------------  -----  \n",
      " 0   Unnamed: 0         2251 non-null   int64  \n",
      " 1   Job Title          2251 non-null   object \n",
      " 2   Salary Estimate    2251 non-null   object \n",
      " 3   Job Description    2251 non-null   object \n",
      " 4   Rating             2251 non-null   float64\n",
      " 5   Company Name       2251 non-null   object \n",
      " 6   Location           2251 non-null   object \n",
      " 7   Headquarters       2251 non-null   object \n",
      " 8   Size               2251 non-null   object \n",
      " 9   Founded            2251 non-null   int64  \n",
      " 10  Type of ownership  2251 non-null   object \n",
      " 11  Industry           2251 non-null   object \n",
      " 12  Sector             2251 non-null   object \n",
      " 13  Revenue            2251 non-null   object \n",
      " 14  Competitors        2251 non-null   object \n",
      " 15  Easy Apply         2251 non-null   object \n",
      " 16  Min_Salary         2251 non-null   int64  \n",
      " 17  Max_Salary         2251 non-null   int64  \n",
      "dtypes: float64(1), int64(4), object(13)\n",
      "memory usage: 334.1+ KB\n"
     ]
    }
   ],
   "source": [
    "df.info()"
   ]
  },
  {
   "cell_type": "code",
   "execution_count": 13,
   "metadata": {},
   "outputs": [],
   "source": [
    "df['Avg Salary'] = (df['Min_Salary'] + df['Max_Salary'])/ 2"
   ]
  },
  {
   "cell_type": "code",
   "execution_count": 14,
   "metadata": {},
   "outputs": [
    {
     "data": {
      "text/plain": [
       "Data Analyst                                                                        404\n",
       "Senior Data Analyst                                                                  90\n",
       "Junior Data Analyst                                                                  30\n",
       "Business Data Analyst                                                                28\n",
       "Sr. Data Analyst                                                                     21\n",
       "Data Analyst II                                                                      17\n",
       "Data Analyst Junior                                                                  17\n",
       "Data Quality Analyst                                                                 17\n",
       "Data Governance Analyst                                                              16\n",
       "Lead Data Analyst                                                                    15\n",
       "Data Reporting Analyst                                                               13\n",
       "Financial Data Analyst                                                               12\n",
       "Data Analyst III                                                                     11\n",
       "Data Analyst I                                                                       11\n",
       "Sr Data Analyst                                                                       9\n",
       "Marketing Data Analyst                                                                9\n",
       "Data Management Analyst                                                               8\n",
       "Data Warehouse Analyst                                                                8\n",
       "SQL Data Analyst                                                                      7\n",
       "Data Science Analyst                                                                  7\n",
       "Technical Data Analyst                                                                7\n",
       "Healthcare Data Analyst                                                               6\n",
       "Data Security Analyst                                                                 6\n",
       "Clinical Data Analyst                                                                 6\n",
       "Research Data Analyst                                                                 6\n",
       "Data Analyst III (Healthcare Analytics)                                               5\n",
       "Product Data Analyst                                                                  5\n",
       "Senior Healthcare Data Analyst                                                        5\n",
       "NY Healthcare Data/Reporting Analyst                                                  5\n",
       "Master Data Analyst                                                                   4\n",
       "Business/Data Analyst                                                                 4\n",
       "Operations Data Analyst                                                               4\n",
       "Senior Data Quality Analyst                                                           4\n",
       "Data Base Programmer/Analyst                                                          4\n",
       "Data Analyst Intern                                                                   4\n",
       "Senior Contract Data Analyst                                                          4\n",
       "Quality Data Analyst                                                                  4\n",
       "Data Analyst, Data & Analytics (Advanced Analytics) Manager (Multiple Positions)      4\n",
       "TX Healthcare Data/Reporting Analyst                                                  4\n",
       "Healthcare Data/Reporting Analyst                                                     4\n",
       "Division Data and Financial Analyst                                                   3\n",
       "Data Warehouse Analyst III                                                            3\n",
       "Data analyst                                                                          3\n",
       "Data and User Acceptance Test Analyst                                                 3\n",
       "Data Integrity Analyst                                                                3\n",
       "Data Analyst IV                                                                       3\n",
       "HR Data Analyst                                                                       3\n",
       "HR Data Analyst II                                                                    3\n",
       "Data Visualization Analyst                                                            3\n",
       "Senior Product Data Analyst                                                           3\n",
       "Name: Job Title, dtype: int64"
      ]
     },
     "execution_count": 14,
     "metadata": {},
     "output_type": "execute_result"
    }
   ],
   "source": [
    "# Extract Job title and add seniority\n",
    "df['Job Title'].value_counts().head(50)"
   ]
  },
  {
   "cell_type": "code",
   "execution_count": 15,
   "metadata": {},
   "outputs": [],
   "source": [
    "def seniority(job):\n",
    "    if 'senior' in job.lower() or 'sr.' in job.lower() or 'sr' in job.lower() or 'III' in job.lower() or 'lead' in job.lower() or 'manager' in job.lower() or 'principal' in job.lower():\n",
    "        return 'senior'\n",
    "    elif 'junior' in job.lower() or 'jr.' in job.lower() or 'jr' in job.lower() or 'I' in job.lower():\n",
    "        return 'junior'\n",
    "    else:\n",
    "        return 'associate'"
   ]
  },
  {
   "cell_type": "code",
   "execution_count": 16,
   "metadata": {},
   "outputs": [],
   "source": [
    "def job_simplify(job):\n",
    "    if 'business' in job.lower():\n",
    "        return 'Business Data Analyst'\n",
    "    elif 'financial' in job.lower():\n",
    "        return 'Financial Data Analyst'\n",
    "    elif 'marketing' in job.lower():\n",
    "        return 'Marketing Data Analyst'\n",
    "    elif 'healthcare' in job.lower() or 'clinical' in job.lower():\n",
    "        return 'Healthcare Data Analyst'\n",
    "    elif 'quality' in job.lower() or 'qa' in job.lower():\n",
    "        return 'Data Quality Analyst'\n",
    "    else:\n",
    "        return 'Data Analyst'"
   ]
  },
  {
   "cell_type": "code",
   "execution_count": 17,
   "metadata": {},
   "outputs": [],
   "source": [
    "df['job_simp'] = df['Job Title'].apply(job_simplify)"
   ]
  },
  {
   "cell_type": "code",
   "execution_count": 18,
   "metadata": {},
   "outputs": [
    {
     "data": {
      "text/plain": [
       "Data Analyst               1858\n",
       "Business Data Analyst       182\n",
       "Healthcare Data Analyst      71\n",
       "Data Quality Analyst         62\n",
       "Financial Data Analyst       46\n",
       "Marketing Data Analyst       32\n",
       "Name: job_simp, dtype: int64"
      ]
     },
     "execution_count": 18,
     "metadata": {},
     "output_type": "execute_result"
    }
   ],
   "source": [
    "df['job_simp'].value_counts()"
   ]
  },
  {
   "cell_type": "code",
   "execution_count": 19,
   "metadata": {},
   "outputs": [
    {
     "data": {
      "text/plain": [
       "associate    1672\n",
       "senior        506\n",
       "junior         73\n",
       "Name: seniority, dtype: int64"
      ]
     },
     "execution_count": 19,
     "metadata": {},
     "output_type": "execute_result"
    }
   ],
   "source": [
    "df['seniority'] = df['Job Title'].apply(seniority)\n",
    "df['seniority'].value_counts()"
   ]
  },
  {
   "cell_type": "code",
   "execution_count": 20,
   "metadata": {},
   "outputs": [],
   "source": [
    "# Extract Company name\n",
    "df['Company Name'] = df['Company Name'].apply(lambda x: x.split('\\n')[0])"
   ]
  },
  {
   "cell_type": "code",
   "execution_count": 21,
   "metadata": {},
   "outputs": [
    {
     "data": {
      "text/plain": [
       "Staffigo Technical Services, LLC    58\n",
       "Diverse Lynx                        22\n",
       "Kforce                              19\n",
       "Lorven Technologies Inc             19\n",
       "Mondo                               14\n",
       "                                    ..\n",
       "Hikma Pharmaceuticals                1\n",
       "Centers Plan for Healthy Living      1\n",
       "Trinity Health                       1\n",
       "Capital Management                   1\n",
       "Softpath System LLC                  1\n",
       "Name: Company Name, Length: 1501, dtype: int64"
      ]
     },
     "execution_count": 21,
     "metadata": {},
     "output_type": "execute_result"
    }
   ],
   "source": [
    "df['Company Name'].value_counts()"
   ]
  },
  {
   "cell_type": "code",
   "execution_count": 22,
   "metadata": {},
   "outputs": [],
   "source": [
    "# Extract Job city from location\n",
    "# Extract job state from location\n",
    "df['Job City'] = df['Location'].apply(lambda x: x.split(',')[0])\n",
    "df['Job State'] = df['Location'].apply(lambda x: x.split(',')[1])"
   ]
  },
  {
   "cell_type": "code",
   "execution_count": 23,
   "metadata": {},
   "outputs": [
    {
     "data": {
      "text/plain": [
       "New York          310\n",
       "Chicago           130\n",
       "San Francisco     119\n",
       "Austin             81\n",
       "Los Angeles        80\n",
       "                 ... \n",
       "Tarrant             1\n",
       "East Palo Alto      1\n",
       "Indian Trail        1\n",
       "Henderson           1\n",
       "National City       1\n",
       "Name: Job City, Length: 249, dtype: int64"
      ]
     },
     "execution_count": 23,
     "metadata": {},
     "output_type": "execute_result"
    }
   ],
   "source": [
    "df['Job City'].value_counts()"
   ]
  },
  {
   "cell_type": "code",
   "execution_count": 24,
   "metadata": {},
   "outputs": [
    {
     "data": {
      "text/plain": [
       " CA          626\n",
       " TX          394\n",
       " NY          345\n",
       " IL          164\n",
       " PA          114\n",
       " AZ           97\n",
       " NC           89\n",
       " CO           88\n",
       " NJ           86\n",
       " WA           53\n",
       " VA           48\n",
       " OH           35\n",
       " UT           33\n",
       " FL           27\n",
       " IN           23\n",
       " DE           11\n",
       " Arapahoe      8\n",
       " GA            4\n",
       " SC            3\n",
       " KS            3\n",
       "Name: Job State, dtype: int64"
      ]
     },
     "execution_count": 24,
     "metadata": {},
     "output_type": "execute_result"
    }
   ],
   "source": [
    "df['Job State'].value_counts()"
   ]
  },
  {
   "cell_type": "code",
   "execution_count": 25,
   "metadata": {},
   "outputs": [],
   "source": [
    "#age column\n",
    "df['company_age'] = 2020 - df['Founded']"
   ]
  },
  {
   "cell_type": "code",
   "execution_count": 26,
   "metadata": {},
   "outputs": [
    {
     "data": {
      "text/html": [
       "<div>\n",
       "<style scoped>\n",
       "    .dataframe tbody tr th:only-of-type {\n",
       "        vertical-align: middle;\n",
       "    }\n",
       "\n",
       "    .dataframe tbody tr th {\n",
       "        vertical-align: top;\n",
       "    }\n",
       "\n",
       "    .dataframe thead th {\n",
       "        text-align: right;\n",
       "    }\n",
       "</style>\n",
       "<table border=\"1\" class=\"dataframe\">\n",
       "  <thead>\n",
       "    <tr style=\"text-align: right;\">\n",
       "      <th></th>\n",
       "      <th>Unnamed: 0</th>\n",
       "      <th>Job Title</th>\n",
       "      <th>Salary Estimate</th>\n",
       "      <th>Job Description</th>\n",
       "      <th>Rating</th>\n",
       "      <th>Company Name</th>\n",
       "      <th>Location</th>\n",
       "      <th>Headquarters</th>\n",
       "      <th>Size</th>\n",
       "      <th>Founded</th>\n",
       "      <th>...</th>\n",
       "      <th>Competitors</th>\n",
       "      <th>Easy Apply</th>\n",
       "      <th>Min_Salary</th>\n",
       "      <th>Max_Salary</th>\n",
       "      <th>Avg Salary</th>\n",
       "      <th>job_simp</th>\n",
       "      <th>seniority</th>\n",
       "      <th>Job City</th>\n",
       "      <th>Job State</th>\n",
       "      <th>company_age</th>\n",
       "    </tr>\n",
       "  </thead>\n",
       "  <tbody>\n",
       "    <tr>\n",
       "      <th>0</th>\n",
       "      <td>0</td>\n",
       "      <td>Data Analyst, Center on Immigration and Justic...</td>\n",
       "      <td>37-66</td>\n",
       "      <td>Are you eager to roll up your sleeves and harn...</td>\n",
       "      <td>3.2</td>\n",
       "      <td>Vera Institute of Justice</td>\n",
       "      <td>New York, NY</td>\n",
       "      <td>New York, NY</td>\n",
       "      <td>201 to 500 employees</td>\n",
       "      <td>1961</td>\n",
       "      <td>...</td>\n",
       "      <td>-1</td>\n",
       "      <td>True</td>\n",
       "      <td>37</td>\n",
       "      <td>66</td>\n",
       "      <td>51.5</td>\n",
       "      <td>Data Analyst</td>\n",
       "      <td>associate</td>\n",
       "      <td>New York</td>\n",
       "      <td>NY</td>\n",
       "      <td>59</td>\n",
       "    </tr>\n",
       "    <tr>\n",
       "      <th>1</th>\n",
       "      <td>1</td>\n",
       "      <td>Quality Data Analyst</td>\n",
       "      <td>37-66</td>\n",
       "      <td>Overview\\n\\nProvides analytical and technical ...</td>\n",
       "      <td>3.8</td>\n",
       "      <td>Visiting Nurse Service of New York</td>\n",
       "      <td>New York, NY</td>\n",
       "      <td>New York, NY</td>\n",
       "      <td>10000+ employees</td>\n",
       "      <td>1893</td>\n",
       "      <td>...</td>\n",
       "      <td>-1</td>\n",
       "      <td>-1</td>\n",
       "      <td>37</td>\n",
       "      <td>66</td>\n",
       "      <td>51.5</td>\n",
       "      <td>Data Quality Analyst</td>\n",
       "      <td>associate</td>\n",
       "      <td>New York</td>\n",
       "      <td>NY</td>\n",
       "      <td>127</td>\n",
       "    </tr>\n",
       "    <tr>\n",
       "      <th>2</th>\n",
       "      <td>2</td>\n",
       "      <td>Senior Data Analyst, Insights &amp; Analytics Team...</td>\n",
       "      <td>37-66</td>\n",
       "      <td>We’re looking for a Senior Data Analyst who ha...</td>\n",
       "      <td>3.4</td>\n",
       "      <td>Squarespace</td>\n",
       "      <td>New York, NY</td>\n",
       "      <td>New York, NY</td>\n",
       "      <td>1001 to 5000 employees</td>\n",
       "      <td>2003</td>\n",
       "      <td>...</td>\n",
       "      <td>GoDaddy</td>\n",
       "      <td>-1</td>\n",
       "      <td>37</td>\n",
       "      <td>66</td>\n",
       "      <td>51.5</td>\n",
       "      <td>Data Analyst</td>\n",
       "      <td>senior</td>\n",
       "      <td>New York</td>\n",
       "      <td>NY</td>\n",
       "      <td>17</td>\n",
       "    </tr>\n",
       "    <tr>\n",
       "      <th>3</th>\n",
       "      <td>3</td>\n",
       "      <td>Data Analyst</td>\n",
       "      <td>37-66</td>\n",
       "      <td>Requisition NumberRR-0001939\\nRemote:Yes\\nWe c...</td>\n",
       "      <td>4.1</td>\n",
       "      <td>Celerity</td>\n",
       "      <td>New York, NY</td>\n",
       "      <td>McLean, VA</td>\n",
       "      <td>201 to 500 employees</td>\n",
       "      <td>2002</td>\n",
       "      <td>...</td>\n",
       "      <td>-1</td>\n",
       "      <td>-1</td>\n",
       "      <td>37</td>\n",
       "      <td>66</td>\n",
       "      <td>51.5</td>\n",
       "      <td>Data Analyst</td>\n",
       "      <td>associate</td>\n",
       "      <td>New York</td>\n",
       "      <td>NY</td>\n",
       "      <td>18</td>\n",
       "    </tr>\n",
       "    <tr>\n",
       "      <th>4</th>\n",
       "      <td>4</td>\n",
       "      <td>Reporting Data Analyst</td>\n",
       "      <td>37-66</td>\n",
       "      <td>ABOUT FANDUEL GROUP\\n\\nFanDuel Group is a worl...</td>\n",
       "      <td>3.9</td>\n",
       "      <td>FanDuel</td>\n",
       "      <td>New York, NY</td>\n",
       "      <td>New York, NY</td>\n",
       "      <td>501 to 1000 employees</td>\n",
       "      <td>2009</td>\n",
       "      <td>...</td>\n",
       "      <td>DraftKings</td>\n",
       "      <td>True</td>\n",
       "      <td>37</td>\n",
       "      <td>66</td>\n",
       "      <td>51.5</td>\n",
       "      <td>Data Analyst</td>\n",
       "      <td>associate</td>\n",
       "      <td>New York</td>\n",
       "      <td>NY</td>\n",
       "      <td>11</td>\n",
       "    </tr>\n",
       "    <tr>\n",
       "      <th>5</th>\n",
       "      <td>5</td>\n",
       "      <td>Data Analyst</td>\n",
       "      <td>37-66</td>\n",
       "      <td>About Cubist\\nCubist Systematic Strategies is ...</td>\n",
       "      <td>3.9</td>\n",
       "      <td>Point72</td>\n",
       "      <td>New York, NY</td>\n",
       "      <td>Stamford, CT</td>\n",
       "      <td>1001 to 5000 employees</td>\n",
       "      <td>2014</td>\n",
       "      <td>...</td>\n",
       "      <td>-1</td>\n",
       "      <td>-1</td>\n",
       "      <td>37</td>\n",
       "      <td>66</td>\n",
       "      <td>51.5</td>\n",
       "      <td>Data Analyst</td>\n",
       "      <td>associate</td>\n",
       "      <td>New York</td>\n",
       "      <td>NY</td>\n",
       "      <td>6</td>\n",
       "    </tr>\n",
       "    <tr>\n",
       "      <th>6</th>\n",
       "      <td>6</td>\n",
       "      <td>Business/Data Analyst (FP&amp;A)</td>\n",
       "      <td>37-66</td>\n",
       "      <td>Two Sigma is a different kind of investment ma...</td>\n",
       "      <td>4.4</td>\n",
       "      <td>Two Sigma</td>\n",
       "      <td>New York, NY</td>\n",
       "      <td>New York, NY</td>\n",
       "      <td>1001 to 5000 employees</td>\n",
       "      <td>2001</td>\n",
       "      <td>...</td>\n",
       "      <td>-1</td>\n",
       "      <td>-1</td>\n",
       "      <td>37</td>\n",
       "      <td>66</td>\n",
       "      <td>51.5</td>\n",
       "      <td>Business Data Analyst</td>\n",
       "      <td>associate</td>\n",
       "      <td>New York</td>\n",
       "      <td>NY</td>\n",
       "      <td>19</td>\n",
       "    </tr>\n",
       "    <tr>\n",
       "      <th>7</th>\n",
       "      <td>7</td>\n",
       "      <td>Data Science Analyst</td>\n",
       "      <td>37-66</td>\n",
       "      <td>Data Science Analyst\\n\\nJob Details\\nLevel\\nEx...</td>\n",
       "      <td>3.7</td>\n",
       "      <td>GNY Insurance Companies</td>\n",
       "      <td>New York, NY</td>\n",
       "      <td>New York, NY</td>\n",
       "      <td>201 to 500 employees</td>\n",
       "      <td>1914</td>\n",
       "      <td>...</td>\n",
       "      <td>Travelers, Chubb, Crum &amp; Forster</td>\n",
       "      <td>True</td>\n",
       "      <td>37</td>\n",
       "      <td>66</td>\n",
       "      <td>51.5</td>\n",
       "      <td>Data Analyst</td>\n",
       "      <td>associate</td>\n",
       "      <td>New York</td>\n",
       "      <td>NY</td>\n",
       "      <td>106</td>\n",
       "    </tr>\n",
       "    <tr>\n",
       "      <th>8</th>\n",
       "      <td>8</td>\n",
       "      <td>Data Analyst</td>\n",
       "      <td>37-66</td>\n",
       "      <td>The Data Analyst is an integral member of the ...</td>\n",
       "      <td>4.0</td>\n",
       "      <td>DMGT</td>\n",
       "      <td>New York, NY</td>\n",
       "      <td>London, United Kingdom</td>\n",
       "      <td>5001 to 10000 employees</td>\n",
       "      <td>1896</td>\n",
       "      <td>...</td>\n",
       "      <td>Thomson Reuters, Hearst, Pearson</td>\n",
       "      <td>-1</td>\n",
       "      <td>37</td>\n",
       "      <td>66</td>\n",
       "      <td>51.5</td>\n",
       "      <td>Data Analyst</td>\n",
       "      <td>associate</td>\n",
       "      <td>New York</td>\n",
       "      <td>NY</td>\n",
       "      <td>124</td>\n",
       "    </tr>\n",
       "    <tr>\n",
       "      <th>9</th>\n",
       "      <td>9</td>\n",
       "      <td>Data Analyst, Merchant Health</td>\n",
       "      <td>37-66</td>\n",
       "      <td>About Us\\n\\nRiskified is the AI platform power...</td>\n",
       "      <td>4.4</td>\n",
       "      <td>Riskified</td>\n",
       "      <td>New York, NY</td>\n",
       "      <td>New York, NY</td>\n",
       "      <td>501 to 1000 employees</td>\n",
       "      <td>2013</td>\n",
       "      <td>...</td>\n",
       "      <td>Signifyd, Forter</td>\n",
       "      <td>-1</td>\n",
       "      <td>37</td>\n",
       "      <td>66</td>\n",
       "      <td>51.5</td>\n",
       "      <td>Data Analyst</td>\n",
       "      <td>associate</td>\n",
       "      <td>New York</td>\n",
       "      <td>NY</td>\n",
       "      <td>7</td>\n",
       "    </tr>\n",
       "  </tbody>\n",
       "</table>\n",
       "<p>10 rows × 24 columns</p>\n",
       "</div>"
      ],
      "text/plain": [
       "   Unnamed: 0                                          Job Title  \\\n",
       "0           0  Data Analyst, Center on Immigration and Justic...   \n",
       "1           1                               Quality Data Analyst   \n",
       "2           2  Senior Data Analyst, Insights & Analytics Team...   \n",
       "3           3                                       Data Analyst   \n",
       "4           4                             Reporting Data Analyst   \n",
       "5           5                                       Data Analyst   \n",
       "6           6                       Business/Data Analyst (FP&A)   \n",
       "7           7                               Data Science Analyst   \n",
       "8           8                                       Data Analyst   \n",
       "9           9                      Data Analyst, Merchant Health   \n",
       "\n",
       "  Salary Estimate                                    Job Description  Rating  \\\n",
       "0           37-66  Are you eager to roll up your sleeves and harn...     3.2   \n",
       "1           37-66  Overview\\n\\nProvides analytical and technical ...     3.8   \n",
       "2           37-66  We’re looking for a Senior Data Analyst who ha...     3.4   \n",
       "3           37-66  Requisition NumberRR-0001939\\nRemote:Yes\\nWe c...     4.1   \n",
       "4           37-66  ABOUT FANDUEL GROUP\\n\\nFanDuel Group is a worl...     3.9   \n",
       "5           37-66  About Cubist\\nCubist Systematic Strategies is ...     3.9   \n",
       "6           37-66  Two Sigma is a different kind of investment ma...     4.4   \n",
       "7           37-66  Data Science Analyst\\n\\nJob Details\\nLevel\\nEx...     3.7   \n",
       "8           37-66  The Data Analyst is an integral member of the ...     4.0   \n",
       "9           37-66  About Us\\n\\nRiskified is the AI platform power...     4.4   \n",
       "\n",
       "                         Company Name      Location            Headquarters  \\\n",
       "0           Vera Institute of Justice  New York, NY            New York, NY   \n",
       "1  Visiting Nurse Service of New York  New York, NY            New York, NY   \n",
       "2                         Squarespace  New York, NY            New York, NY   \n",
       "3                            Celerity  New York, NY              McLean, VA   \n",
       "4                             FanDuel  New York, NY            New York, NY   \n",
       "5                             Point72  New York, NY            Stamford, CT   \n",
       "6                           Two Sigma  New York, NY            New York, NY   \n",
       "7             GNY Insurance Companies  New York, NY            New York, NY   \n",
       "8                                DMGT  New York, NY  London, United Kingdom   \n",
       "9                           Riskified  New York, NY            New York, NY   \n",
       "\n",
       "                      Size  Founded  ...                       Competitors  \\\n",
       "0     201 to 500 employees     1961  ...                                -1   \n",
       "1         10000+ employees     1893  ...                                -1   \n",
       "2   1001 to 5000 employees     2003  ...                           GoDaddy   \n",
       "3     201 to 500 employees     2002  ...                                -1   \n",
       "4    501 to 1000 employees     2009  ...                        DraftKings   \n",
       "5   1001 to 5000 employees     2014  ...                                -1   \n",
       "6   1001 to 5000 employees     2001  ...                                -1   \n",
       "7     201 to 500 employees     1914  ...  Travelers, Chubb, Crum & Forster   \n",
       "8  5001 to 10000 employees     1896  ...  Thomson Reuters, Hearst, Pearson   \n",
       "9    501 to 1000 employees     2013  ...                  Signifyd, Forter   \n",
       "\n",
       "  Easy Apply Min_Salary Max_Salary Avg Salary               job_simp  \\\n",
       "0       True         37         66       51.5           Data Analyst   \n",
       "1         -1         37         66       51.5   Data Quality Analyst   \n",
       "2         -1         37         66       51.5           Data Analyst   \n",
       "3         -1         37         66       51.5           Data Analyst   \n",
       "4       True         37         66       51.5           Data Analyst   \n",
       "5         -1         37         66       51.5           Data Analyst   \n",
       "6         -1         37         66       51.5  Business Data Analyst   \n",
       "7       True         37         66       51.5           Data Analyst   \n",
       "8         -1         37         66       51.5           Data Analyst   \n",
       "9         -1         37         66       51.5           Data Analyst   \n",
       "\n",
       "   seniority  Job City  Job State company_age  \n",
       "0  associate  New York         NY          59  \n",
       "1  associate  New York         NY         127  \n",
       "2     senior  New York         NY          17  \n",
       "3  associate  New York         NY          18  \n",
       "4  associate  New York         NY          11  \n",
       "5  associate  New York         NY           6  \n",
       "6  associate  New York         NY          19  \n",
       "7  associate  New York         NY         106  \n",
       "8  associate  New York         NY         124  \n",
       "9  associate  New York         NY           7  \n",
       "\n",
       "[10 rows x 24 columns]"
      ]
     },
     "execution_count": 26,
     "metadata": {},
     "output_type": "execute_result"
    }
   ],
   "source": [
    "df.head(10)"
   ]
  },
  {
   "cell_type": "code",
   "execution_count": 27,
   "metadata": {},
   "outputs": [
    {
     "data": {
      "text/plain": [
       "51 to 200 employees        420\n",
       "10000+ employees           375\n",
       "1001 to 5000 employees     348\n",
       "1 to 50 employees          347\n",
       "201 to 500 employees       249\n",
       "501 to 1000 employees      211\n",
       "-1                         162\n",
       "5001 to 10000 employees     97\n",
       "Unknown                     42\n",
       "Name: Size, dtype: int64"
      ]
     },
     "execution_count": 27,
     "metadata": {},
     "output_type": "execute_result"
    }
   ],
   "source": [
    "df['Size'].value_counts()"
   ]
  },
  {
   "cell_type": "code",
   "execution_count": 28,
   "metadata": {},
   "outputs": [],
   "source": [
    "df['num_competitors'] = df['Competitors'].apply(lambda x: 0 if x == '-1' else len(x.split(',')))"
   ]
  },
  {
   "cell_type": "code",
   "execution_count": 29,
   "metadata": {},
   "outputs": [
    {
     "data": {
      "text/plain": [
       "Index(['Unnamed: 0', 'Job Title', 'Salary Estimate', 'Job Description',\n",
       "       'Rating', 'Company Name', 'Location', 'Headquarters', 'Size', 'Founded',\n",
       "       'Type of ownership', 'Industry', 'Sector', 'Revenue', 'Competitors',\n",
       "       'Easy Apply', 'Min_Salary', 'Max_Salary', 'Avg Salary', 'job_simp',\n",
       "       'seniority', 'Job City', 'Job State', 'company_age', 'num_competitors'],\n",
       "      dtype='object')"
      ]
     },
     "execution_count": 29,
     "metadata": {},
     "output_type": "execute_result"
    }
   ],
   "source": [
    "df.columns"
   ]
  },
  {
   "cell_type": "code",
   "execution_count": 30,
   "metadata": {},
   "outputs": [
    {
     "data": {
      "text/html": [
       "<div>\n",
       "<style scoped>\n",
       "    .dataframe tbody tr th:only-of-type {\n",
       "        vertical-align: middle;\n",
       "    }\n",
       "\n",
       "    .dataframe tbody tr th {\n",
       "        vertical-align: top;\n",
       "    }\n",
       "\n",
       "    .dataframe thead th {\n",
       "        text-align: right;\n",
       "    }\n",
       "</style>\n",
       "<table border=\"1\" class=\"dataframe\">\n",
       "  <thead>\n",
       "    <tr style=\"text-align: right;\">\n",
       "      <th></th>\n",
       "      <th>Competitors</th>\n",
       "      <th>num_competitors</th>\n",
       "    </tr>\n",
       "  </thead>\n",
       "  <tbody>\n",
       "    <tr>\n",
       "      <th>0</th>\n",
       "      <td>-1</td>\n",
       "      <td>0</td>\n",
       "    </tr>\n",
       "    <tr>\n",
       "      <th>1</th>\n",
       "      <td>-1</td>\n",
       "      <td>0</td>\n",
       "    </tr>\n",
       "    <tr>\n",
       "      <th>2</th>\n",
       "      <td>GoDaddy</td>\n",
       "      <td>1</td>\n",
       "    </tr>\n",
       "    <tr>\n",
       "      <th>3</th>\n",
       "      <td>-1</td>\n",
       "      <td>0</td>\n",
       "    </tr>\n",
       "    <tr>\n",
       "      <th>4</th>\n",
       "      <td>DraftKings</td>\n",
       "      <td>1</td>\n",
       "    </tr>\n",
       "    <tr>\n",
       "      <th>...</th>\n",
       "      <td>...</td>\n",
       "      <td>...</td>\n",
       "    </tr>\n",
       "    <tr>\n",
       "      <th>2248</th>\n",
       "      <td>-1</td>\n",
       "      <td>0</td>\n",
       "    </tr>\n",
       "    <tr>\n",
       "      <th>2249</th>\n",
       "      <td>Avnet, Ingram Micro, Tech Data</td>\n",
       "      <td>3</td>\n",
       "    </tr>\n",
       "    <tr>\n",
       "      <th>2250</th>\n",
       "      <td>-1</td>\n",
       "      <td>0</td>\n",
       "    </tr>\n",
       "    <tr>\n",
       "      <th>2251</th>\n",
       "      <td>-1</td>\n",
       "      <td>0</td>\n",
       "    </tr>\n",
       "    <tr>\n",
       "      <th>2252</th>\n",
       "      <td>Centura Health, HealthONE, Denver Health and H...</td>\n",
       "      <td>3</td>\n",
       "    </tr>\n",
       "  </tbody>\n",
       "</table>\n",
       "<p>2251 rows × 2 columns</p>\n",
       "</div>"
      ],
      "text/plain": [
       "                                            Competitors  num_competitors\n",
       "0                                                    -1                0\n",
       "1                                                    -1                0\n",
       "2                                               GoDaddy                1\n",
       "3                                                    -1                0\n",
       "4                                            DraftKings                1\n",
       "...                                                 ...              ...\n",
       "2248                                                 -1                0\n",
       "2249                     Avnet, Ingram Micro, Tech Data                3\n",
       "2250                                                 -1                0\n",
       "2251                                                 -1                0\n",
       "2252  Centura Health, HealthONE, Denver Health and H...                3\n",
       "\n",
       "[2251 rows x 2 columns]"
      ]
     },
     "execution_count": 30,
     "metadata": {},
     "output_type": "execute_result"
    }
   ],
   "source": [
    "df[['Competitors','num_competitors']]"
   ]
  },
  {
   "cell_type": "code",
   "execution_count": 31,
   "metadata": {},
   "outputs": [],
   "source": [
    "df.drop('Unnamed: 0', axis=1, inplace=True)"
   ]
  },
  {
   "cell_type": "code",
   "execution_count": 32,
   "metadata": {},
   "outputs": [],
   "source": [
    "# parsing of Job description for common tools\n",
    "# Structured Query Language (SQL)\n",
    "df['sql'] = df['Job Description'].apply(lambda x: 1 if 'sql' in x.lower() else 0)"
   ]
  },
  {
   "cell_type": "code",
   "execution_count": 33,
   "metadata": {},
   "outputs": [
    {
     "data": {
      "text/plain": [
       "1    1387\n",
       "0     864\n",
       "Name: sql, dtype: int64"
      ]
     },
     "execution_count": 33,
     "metadata": {},
     "output_type": "execute_result"
    }
   ],
   "source": [
    "df['sql'].value_counts()"
   ]
  },
  {
   "cell_type": "code",
   "execution_count": 34,
   "metadata": {},
   "outputs": [],
   "source": [
    "# Microsoft Excel\n",
    "df['excel'] = df['Job Description'].apply(lambda x: 1 if 'excel' in x.lower() else 0)"
   ]
  },
  {
   "cell_type": "code",
   "execution_count": 35,
   "metadata": {},
   "outputs": [
    {
     "data": {
      "text/plain": [
       "1    1352\n",
       "0     899\n",
       "Name: excel, dtype: int64"
      ]
     },
     "execution_count": 35,
     "metadata": {},
     "output_type": "execute_result"
    }
   ],
   "source": [
    "df['excel'].value_counts()"
   ]
  },
  {
   "cell_type": "code",
   "execution_count": 36,
   "metadata": {},
   "outputs": [],
   "source": [
    "# R\n",
    "df['R_code'] = df['Job Description'].apply(lambda x: 1 if 'r-studio' in x.lower() or 'r studio' in x.lower() or 'rstudio' in x.lower() else 0)"
   ]
  },
  {
   "cell_type": "code",
   "execution_count": 37,
   "metadata": {},
   "outputs": [
    {
     "data": {
      "text/plain": [
       "0    2236\n",
       "1      15\n",
       "Name: R_code, dtype: int64"
      ]
     },
     "execution_count": 37,
     "metadata": {},
     "output_type": "execute_result"
    }
   ],
   "source": [
    "df['R_code'].value_counts()"
   ]
  },
  {
   "cell_type": "code",
   "execution_count": 38,
   "metadata": {},
   "outputs": [],
   "source": [
    "# Python\n",
    "df['python_code'] = df['Job Description'].apply(lambda x: 1 if 'python' in x.lower() else 0)"
   ]
  },
  {
   "cell_type": "code",
   "execution_count": 39,
   "metadata": {},
   "outputs": [
    {
     "data": {
      "text/plain": [
       "0    1614\n",
       "1     637\n",
       "Name: python_code, dtype: int64"
      ]
     },
     "execution_count": 39,
     "metadata": {},
     "output_type": "execute_result"
    }
   ],
   "source": [
    "df['python_code'].value_counts()"
   ]
  },
  {
   "cell_type": "code",
   "execution_count": 40,
   "metadata": {},
   "outputs": [],
   "source": [
    "# Tableau\n",
    "df['tableau'] = df['Job Description'].apply(lambda x: 1 if 'tableau' in x.lower() else 0)"
   ]
  },
  {
   "cell_type": "code",
   "execution_count": 41,
   "metadata": {},
   "outputs": [
    {
     "data": {
      "text/plain": [
       "0    1631\n",
       "1     620\n",
       "Name: tableau, dtype: int64"
      ]
     },
     "execution_count": 41,
     "metadata": {},
     "output_type": "execute_result"
    }
   ],
   "source": [
    "df['tableau'].value_counts()"
   ]
  },
  {
   "cell_type": "code",
   "execution_count": 42,
   "metadata": {},
   "outputs": [],
   "source": [
    "# SAS\n",
    "df['SAS'] = df['Job Description'].apply(lambda x: 1 if 'sas' in x.lower() else 0)"
   ]
  },
  {
   "cell_type": "code",
   "execution_count": 43,
   "metadata": {},
   "outputs": [
    {
     "data": {
      "text/plain": [
       "0    1840\n",
       "1     411\n",
       "Name: SAS, dtype: int64"
      ]
     },
     "execution_count": 43,
     "metadata": {},
     "output_type": "execute_result"
    }
   ],
   "source": [
    "df['SAS'].value_counts()"
   ]
  },
  {
   "cell_type": "markdown",
   "metadata": {},
   "source": [
    "## Unknown data (stated as -1)"
   ]
  },
  {
   "cell_type": "code",
   "execution_count": 51,
   "metadata": {},
   "outputs": [
    {
     "data": {
      "text/plain": [
       "-1                                  352\n",
       "IT Services                         325\n",
       "Staffing & Outsourcing              322\n",
       "Health Care Services & Hospitals    151\n",
       "Consulting                          111\n",
       "                                   ... \n",
       "Metals Brokers                        1\n",
       "Chemical Manufacturing                1\n",
       "Hotels, Motels, & Resorts             1\n",
       "Stock Exchanges                       1\n",
       "Trucking                              1\n",
       "Name: Industry, Length: 89, dtype: int64"
      ]
     },
     "execution_count": 51,
     "metadata": {},
     "output_type": "execute_result"
    }
   ],
   "source": [
    "df['Industry'].value_counts()"
   ]
  },
  {
   "cell_type": "code",
   "execution_count": 77,
   "metadata": {},
   "outputs": [
    {
     "data": {
      "text/html": [
       "<div>\n",
       "<style scoped>\n",
       "    .dataframe tbody tr th:only-of-type {\n",
       "        vertical-align: middle;\n",
       "    }\n",
       "\n",
       "    .dataframe tbody tr th {\n",
       "        vertical-align: top;\n",
       "    }\n",
       "\n",
       "    .dataframe thead th {\n",
       "        text-align: right;\n",
       "    }\n",
       "</style>\n",
       "<table border=\"1\" class=\"dataframe\">\n",
       "  <thead>\n",
       "    <tr style=\"text-align: right;\">\n",
       "      <th></th>\n",
       "      <th>Avg Salary</th>\n",
       "    </tr>\n",
       "    <tr>\n",
       "      <th>Industry</th>\n",
       "      <th></th>\n",
       "    </tr>\n",
       "  </thead>\n",
       "  <tbody>\n",
       "    <tr>\n",
       "      <th>-1</th>\n",
       "      <td>72.690341</td>\n",
       "    </tr>\n",
       "    <tr>\n",
       "      <th>Accounting</th>\n",
       "      <td>76.294872</td>\n",
       "    </tr>\n",
       "    <tr>\n",
       "      <th>Advertising &amp; Marketing</th>\n",
       "      <td>72.598039</td>\n",
       "    </tr>\n",
       "    <tr>\n",
       "      <th>Aerospace &amp; Defense</th>\n",
       "      <td>68.500000</td>\n",
       "    </tr>\n",
       "    <tr>\n",
       "      <th>Architectural &amp; Engineering Services</th>\n",
       "      <td>72.307692</td>\n",
       "    </tr>\n",
       "    <tr>\n",
       "      <th>...</th>\n",
       "      <td>...</td>\n",
       "    </tr>\n",
       "    <tr>\n",
       "      <th>Utilities</th>\n",
       "      <td>83.250000</td>\n",
       "    </tr>\n",
       "    <tr>\n",
       "      <th>Vehicle Dealers</th>\n",
       "      <td>49.666667</td>\n",
       "    </tr>\n",
       "    <tr>\n",
       "      <th>Venture Capital &amp; Private Equity</th>\n",
       "      <td>78.500000</td>\n",
       "    </tr>\n",
       "    <tr>\n",
       "      <th>Video Games</th>\n",
       "      <td>68.375000</td>\n",
       "    </tr>\n",
       "    <tr>\n",
       "      <th>Wholesale</th>\n",
       "      <td>73.583333</td>\n",
       "    </tr>\n",
       "  </tbody>\n",
       "</table>\n",
       "<p>89 rows × 1 columns</p>\n",
       "</div>"
      ],
      "text/plain": [
       "                                      Avg Salary\n",
       "Industry                                        \n",
       "-1                                     72.690341\n",
       "Accounting                             76.294872\n",
       "Advertising & Marketing                72.598039\n",
       "Aerospace & Defense                    68.500000\n",
       "Architectural & Engineering Services   72.307692\n",
       "...                                          ...\n",
       "Utilities                              83.250000\n",
       "Vehicle Dealers                        49.666667\n",
       "Venture Capital & Private Equity       78.500000\n",
       "Video Games                            68.375000\n",
       "Wholesale                              73.583333\n",
       "\n",
       "[89 rows x 1 columns]"
      ]
     },
     "execution_count": 77,
     "metadata": {},
     "output_type": "execute_result"
    }
   ],
   "source": [
    "df.pivot_table(index = 'Industry', values='Avg Salary')"
   ]
  },
  {
   "cell_type": "code",
   "execution_count": 61,
   "metadata": {},
   "outputs": [],
   "source": [
    "df.loc[df['Founded'] == -1, 'company_age'] = 0"
   ]
  },
  {
   "cell_type": "code",
   "execution_count": 63,
   "metadata": {},
   "outputs": [],
   "source": [
    "df.loc[df['company_age'] == 0, 'Founded'] = 0"
   ]
  },
  {
   "cell_type": "code",
   "execution_count": 64,
   "metadata": {},
   "outputs": [
    {
     "data": {
      "text/plain": [
       "0      659\n",
       "12      80\n",
       "24      54\n",
       "18      54\n",
       "20      54\n",
       "      ... \n",
       "94       1\n",
       "92       1\n",
       "86       1\n",
       "111      1\n",
       "235      1\n",
       "Name: company_age, Length: 161, dtype: int64"
      ]
     },
     "execution_count": 64,
     "metadata": {},
     "output_type": "execute_result"
    }
   ],
   "source": [
    "df['company_age'].value_counts()"
   ]
  },
  {
   "cell_type": "code",
   "execution_count": 70,
   "metadata": {},
   "outputs": [],
   "source": [
    "df.loc[df['Size'] == '-1', 'Size'] = 'Unknown'"
   ]
  },
  {
   "cell_type": "code",
   "execution_count": 71,
   "metadata": {},
   "outputs": [
    {
     "data": {
      "text/plain": [
       "51 to 200 employees        420\n",
       "10000+ employees           375\n",
       "1001 to 5000 employees     348\n",
       "1 to 50 employees          347\n",
       "201 to 500 employees       249\n",
       "501 to 1000 employees      211\n",
       "Unknown                    204\n",
       "5001 to 10000 employees     97\n",
       "Name: Size, dtype: int64"
      ]
     },
     "execution_count": 71,
     "metadata": {},
     "output_type": "execute_result"
    }
   ],
   "source": [
    "df['Size'].value_counts()"
   ]
  },
  {
   "cell_type": "code",
   "execution_count": 75,
   "metadata": {},
   "outputs": [],
   "source": [
    "df.loc[df['Revenue'] == 'Unknown', 'Revenue'] = 'Unknown / Non-Applicable'"
   ]
  },
  {
   "cell_type": "code",
   "execution_count": 76,
   "metadata": {},
   "outputs": [
    {
     "data": {
      "text/plain": [
       "Unknown / Non-Applicable            777\n",
       "$100 to $500 million (USD)          218\n",
       "$50 to $100 million (USD)           199\n",
       "$10+ billion (USD)                  189\n",
       "$10 to $25 million (USD)            132\n",
       "$2 to $5 billion (USD)              129\n",
       "$1 to $5 million (USD)              111\n",
       "$25 to $50 million (USD)            109\n",
       "Less than $1 million (USD)           93\n",
       "$1 to $2 billion (USD)               87\n",
       "$500 million to $1 billion (USD)     79\n",
       "$5 to $10 million (USD)              72\n",
       "$5 to $10 billion (USD)              56\n",
       "Name: Revenue, dtype: int64"
      ]
     },
     "execution_count": 76,
     "metadata": {},
     "output_type": "execute_result"
    }
   ],
   "source": [
    "df['Revenue'].value_counts()"
   ]
  },
  {
   "cell_type": "code",
   "execution_count": 49,
   "metadata": {},
   "outputs": [
    {
     "data": {
      "text/plain": [
       "Index(['Job Title', 'Salary Estimate', 'Job Description', 'Rating',\n",
       "       'Company Name', 'Location', 'Headquarters', 'Size', 'Founded',\n",
       "       'Type of ownership', 'Industry', 'Sector', 'Revenue', 'Competitors',\n",
       "       'Easy Apply', 'Min_Salary', 'Max_Salary', 'Avg Salary', 'job_simp',\n",
       "       'seniority', 'Job City', 'Job State', 'company_age', 'num_competitors',\n",
       "       'sql', 'excel', 'R_code', 'python_code', 'tableau', 'SAS'],\n",
       "      dtype='object')"
      ]
     },
     "execution_count": 49,
     "metadata": {},
     "output_type": "execute_result"
    }
   ],
   "source": [
    "df.columns"
   ]
  },
  {
   "cell_type": "code",
   "execution_count": 78,
   "metadata": {},
   "outputs": [],
   "source": [
    "df.to_csv('data-analyst-cleaned.csv', index=False)"
   ]
  },
  {
   "cell_type": "code",
   "execution_count": null,
   "metadata": {},
   "outputs": [],
   "source": []
  }
 ],
 "metadata": {
  "kernelspec": {
   "display_name": "Python 3",
   "language": "python",
   "name": "python3"
  },
  "language_info": {
   "codemirror_mode": {
    "name": "ipython",
    "version": 3
   },
   "file_extension": ".py",
   "mimetype": "text/x-python",
   "name": "python",
   "nbconvert_exporter": "python",
   "pygments_lexer": "ipython3",
   "version": "3.8.3"
  }
 },
 "nbformat": 4,
 "nbformat_minor": 4
}
